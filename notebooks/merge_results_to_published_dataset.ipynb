{
 "cells": [
  {
   "cell_type": "code",
   "execution_count": null,
   "id": "e915dbfc",
   "metadata": {},
   "outputs": [],
   "source": [
    "import glob\n",
    "import os\n",
    "\n",
    "import pandas as pd\n",
    "\n",
    "from functools import reduce\n",
    "\n",
    "\n",
    "data_dir = os.path.join('..', 'data', 'models', 'mev_nn', 'final_ensemble_paper', 'results', 'published_data')\n",
    "\n",
    "csv_files = glob.glob(os.path.join(data_dir, '*.csv'))\n",
    "\n",
    "dfs = []\n",
    "\n",
    "for file in csv_files:\n",
    "    df = pd.read_csv(file)\n",
    "    df = df[['lon', 'lat', 'median']]\n",
    "\n",
    "    # Rename 'median' to include the file name (without extension)\n",
    "    file_label = os.path.splitext(os.path.basename(file))[0]\n",
    "    df = df.rename(columns={'median': f'median_{file_label}'})\n",
    "\n",
    "    dfs.append(df)\n",
    "\n",
    "# Merge all DataFrames on 'lon' and 'lat'\n",
    "merged_df = reduce(lambda left, right: pd.merge(left, right, on=['lon', 'lat'], how='inner'), dfs)\n",
    "\n",
    "# merged_df now contains 'lon', 'lat', and one 'median_*' column per file\n",
    "merged_df = merged_df[sorted(merged_df.columns)]"
   ]
  },
  {
   "cell_type": "code",
   "execution_count": null,
   "id": "2dd81844",
   "metadata": {},
   "outputs": [],
   "source": [
    "merged_df"
   ]
  }
 ],
 "metadata": {
  "kernelspec": {
   "display_name": ".venv",
   "language": "python",
   "name": "python3"
  },
  "language_info": {
   "codemirror_mode": {
    "name": "ipython",
    "version": 3
   },
   "file_extension": ".py",
   "mimetype": "text/x-python",
   "name": "python",
   "nbconvert_exporter": "python",
   "pygments_lexer": "ipython3",
   "version": "3.10.18"
  }
 },
 "nbformat": 4,
 "nbformat_minor": 5
}
