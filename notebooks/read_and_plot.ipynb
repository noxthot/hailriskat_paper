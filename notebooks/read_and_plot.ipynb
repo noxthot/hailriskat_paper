{
 "cells": [
  {
   "cell_type": "code",
   "execution_count": null,
   "id": "837107ab-c513-4165-a1d4-8d6dfd439812",
   "metadata": {},
   "outputs": [],
   "source": [
    "import os\n",
    "\n",
    "import pandas as pd"
   ]
  },
  {
   "cell_type": "code",
   "execution_count": null,
   "id": "5d214ab7-65b3-4f86-8560-199bf137efc2",
   "metadata": {},
   "outputs": [],
   "source": [
    "SAVE_OUTPUT = False\n",
    "\n",
    "FN_RL_CSV = \"returns_y30_best_model.bson.csv\"\n",
    "\n",
    "PATH_MEV_MODELS = os.path.join(\"..\", \"data\", \"models\", \"mev_nn\")\n",
    "\n",
    "PATH_FILE = os.path.join(PATH_MEV_MODELS, \"2024-01-03T12-42-32\", FN_RL_CSV)\n",
    "PATH_OUTPUT = \"tmp\""
   ]
  },
  {
   "cell_type": "code",
   "execution_count": null,
   "id": "bda98ced-417b-4c6f-9fab-a74094ad6cdb",
   "metadata": {},
   "outputs": [],
   "source": [
    "df = pd.read_csv(PATH_FILE)\n",
    "\n",
    "df[\"target\"] /= 10  # convert mm to cm"
   ]
  },
  {
   "cell_type": "code",
   "execution_count": null,
   "id": "c3171bb4-1201-4a55-a58b-1b5ce7d61952",
   "metadata": {},
   "outputs": [],
   "source": [
    "df"
   ]
  },
  {
   "cell_type": "code",
   "execution_count": null,
   "id": "4cf496b3-1d31-41c6-a6b5-230b380ab877",
   "metadata": {},
   "outputs": [],
   "source": [
    "if SAVE_OUTPUT:\n",
    "    os.makedirs(PATH_OUTPUT)"
   ]
  },
  {
   "cell_type": "markdown",
   "id": "14ed0df2-2a1a-469b-a804-3151b318cd78",
   "metadata": {},
   "source": [
    "# Plot Return levels high resolution"
   ]
  },
  {
   "cell_type": "code",
   "execution_count": null,
   "id": "76e17725-3374-46d7-a8cf-769ae3b8dd4a",
   "metadata": {},
   "outputs": [],
   "source": [
    "import matplotlib.pyplot as plt\n",
    "\n",
    "from mpl_toolkits.basemap import Basemap"
   ]
  },
  {
   "cell_type": "code",
   "execution_count": null,
   "id": "c861ef9d-a454-47fc-b015-bfdfa356a2e9",
   "metadata": {},
   "outputs": [],
   "source": [
    "fig = plt.figure(figsize = (15, 10))\n",
    "\n",
    "#initialize the Basemap\n",
    "m = Basemap(projection = 'lcc', resolution='f', lat_0=47.5, lon_0=13.3, width=0.6E6, height=3.7E5)\n",
    "m.drawmapboundary()\n",
    "m.drawcountries(linewidth=2)\n",
    "\n",
    "m.scatter(df['lon'], df['lat'], c=df[\"target\"], cmap=\"jet\", s=0.5, latlon=True, vmin=1, vmax=6)\n",
    "\n",
    "plt.colorbar(label='MEHS', extend=\"max\")\n",
    "\n",
    "if SAVE_OUTPUT:\n",
    "    plt.savefig(os.path.join(PATH_OUTPUT, f\"hailriskat_rl.png\"), bbox_inches=\"tight\")\n",
    "    plt.close()\n",
    "else:\n",
    "    plt.show()"
   ]
  },
  {
   "cell_type": "markdown",
   "id": "367fb663-4693-491f-92f8-2564d4ece73f",
   "metadata": {},
   "source": [
    "# HORA Classification"
   ]
  },
  {
   "cell_type": "code",
   "execution_count": null,
   "id": "682d8b3d-6c15-4edc-bf0e-23618ff26bcc",
   "metadata": {},
   "outputs": [],
   "source": [
    "import numpy as np"
   ]
  },
  {
   "cell_type": "code",
   "execution_count": null,
   "id": "5379d209-62de-4a8d-9e79-48cdbc3fea69",
   "metadata": {},
   "outputs": [],
   "source": [
    "df.loc[:, 'cat_string'] = np.select(\n",
    "    [\n",
    "        (df[\"target\"] > 0) & (df[\"target\"] < 2), \n",
    "        (df[\"target\"] >= 2) & (df[\"target\"] < 3), \n",
    "        (df[\"target\"] >= 3) & (df[\"target\"] < 4), \n",
    "        (df[\"target\"] >= 4) & (df[\"target\"] < 5), \n",
    "        (df[\"target\"] >= 5),\n",
    "    ], \n",
    "    [\n",
    "        'HW 2',\n",
    "        'HW 3', \n",
    "        'HW 4',\n",
    "        'HW 5',\n",
    "        'HW 6',\n",
    "    ], \n",
    "    default='ERROR'\n",
    ")"
   ]
  },
  {
   "cell_type": "markdown",
   "id": "68b7bb3f-9095-47f5-9446-57cbd87e509e",
   "metadata": {},
   "source": [
    "# Plot Return levels HORA classification"
   ]
  },
  {
   "cell_type": "code",
   "execution_count": null,
   "id": "189a9a92-8a18-4a37-b075-73f20c1ab0a3",
   "metadata": {},
   "outputs": [],
   "source": [
    "colors = {\n",
    "        'HW 2' : 'black',\n",
    "        'HW 3' : 'dodgerblue', \n",
    "        'HW 4' : 'springgreen',\n",
    "        'HW 5' : 'orange',\n",
    "        'HW 6' : 'darkred',\n",
    "}\n",
    "\n",
    "ax = plt.figure(figsize = (15, 10))\n",
    "\n",
    "#initialize the Basemap\n",
    "m = Basemap(projection = 'lcc', resolution='f', lat_0=47.5, lon_0=13.3, width=0.6E6, height=3.7E5)\n",
    "m.drawmapboundary()\n",
    "m.drawcountries(linewidth=2)\n",
    "\n",
    "for cat in np.unique(df['cat_string']):\n",
    "    return_data_cat = df.query(f'cat_string == \"{cat}\"') \n",
    "    \n",
    "    m.scatter(return_data_cat['lon'], return_data_cat['lat'], c=colors[cat], latlon=True, label=cat, marker=',', s=0.7, alpha=0.7)\n",
    "\n",
    "# Plot legend.\n",
    "ax.legend(loc='center left', bbox_to_anchor=(0.9, 0.5), markerscale=10)\n",
    "\n",
    "if SAVE_OUTPUT:\n",
    "    plt.savefig(os.path.join(PATH_OUTPUT, f\"hailriskat_rl_hora_classification.png\"), bbox_inches=\"tight\")\n",
    "    plt.close()\n",
    "else:\n",
    "    plt.show()"
   ]
  },
  {
   "cell_type": "markdown",
   "id": "6586abd3-bd50-4269-a7b8-7efaedd56293",
   "metadata": {},
   "source": [
    "# Hail days"
   ]
  },
  {
   "cell_type": "code",
   "execution_count": null,
   "id": "7b02efa4-cb76-4086-a2b1-73f1a7273bb4",
   "metadata": {},
   "outputs": [],
   "source": [
    "df_haildays = pd.read_csv(\"haildays_2009-2022_orig_data.csv\")"
   ]
  },
  {
   "cell_type": "code",
   "execution_count": null,
   "id": "68f592d1-8d75-4585-9ed4-cbbe869aee63",
   "metadata": {},
   "outputs": [],
   "source": [
    "df_haildays"
   ]
  },
  {
   "cell_type": "code",
   "execution_count": null,
   "id": "06458e3d-4c58-473f-a990-eff5d52141ea",
   "metadata": {},
   "outputs": [],
   "source": [
    "fig = plt.figure(figsize = (15, 10))\n",
    "\n",
    "m = Basemap(projection = 'lcc', resolution='f', lat_0 = 47.5, lon_0 = 13.3, width=0.6E6, height=3.7E5)\n",
    "m.drawmapboundary()\n",
    "m.drawcountries(linewidth=2)\n",
    "\n",
    "m.scatter(df_haildays['lon'], df_haildays['lat'], c=df_haildays['hail_events'], cmap=\"nipy_spectral\", s=2, latlon=True, vmin=1)\n",
    "plt.colorbar(label=\"Hail days\", extend=\"max\")\n",
    "plt.title(\"Hail days\")\n",
    "\n",
    "if SAVE_OUTPUT:\n",
    "    plt.savefig(os.path.join(PATH_OUTPUT, \"haildays_2009-2022_orig_data.png\"), bbox_inches=\"tight\")\n",
    "    plt.close()\n",
    "else:\n",
    "    plt.show()"
   ]
  },
  {
   "cell_type": "markdown",
   "id": "97e3ddc7-9a20-4427-904e-dc9e99b4aa3a",
   "metadata": {},
   "source": [
    "# Compare HORA classification of two models"
   ]
  },
  {
   "cell_type": "code",
   "execution_count": null,
   "id": "c944d438-c6c0-4f90-baa4-9e130c9e26ae",
   "metadata": {},
   "outputs": [],
   "source": [
    "PATH_FILE_COMPARE = os.path.join(\"..\", \"data\", \"models\", \"mev_nn\", \"2024-01-23T11-07-00\", FN_RL_CSV)\n",
    "df_compare = pd.read_csv(PATH_FILE_COMPARE)\n",
    "df_compare[\"target\"] /= 10  # convert mm to cm"
   ]
  },
  {
   "cell_type": "code",
   "execution_count": null,
   "id": "b158b591-1880-4d95-abdc-789a75848868",
   "metadata": {},
   "outputs": [],
   "source": [
    "def df_enrich_by_cat(df):\n",
    "    tmpdf = df.copy()\n",
    "    \n",
    "    tmpdf.loc[:, 'cat'] = np.select(\n",
    "        [\n",
    "            (tmpdf[\"target\"] > 0) & (tmpdf[\"target\"] < 2), \n",
    "            (tmpdf[\"target\"] >= 2) & (tmpdf[\"target\"] < 3), \n",
    "            (tmpdf[\"target\"] >= 3) & (tmpdf[\"target\"] < 4), \n",
    "            (tmpdf[\"target\"] >= 4) & (tmpdf[\"target\"] < 5), \n",
    "            (tmpdf[\"target\"] >= 5),\n",
    "        ], \n",
    "        [\n",
    "            0,\n",
    "            1, \n",
    "            2,\n",
    "            3,\n",
    "            4,\n",
    "        ], \n",
    "        default=-1\n",
    "    )\n",
    "\n",
    "    return tmpdf"
   ]
  },
  {
   "cell_type": "code",
   "execution_count": null,
   "id": "0a4f861a-332d-4db2-8b52-7eb223478b02",
   "metadata": {},
   "outputs": [],
   "source": [
    "df1 = df_enrich_by_cat(df_compare)\n",
    "df2 = df_enrich_by_cat(df_compare)\n",
    "\n",
    "df1.loc[:, \"diff_class\"] = df1[\"cat\"] - df2[\"cat\"]"
   ]
  },
  {
   "cell_type": "code",
   "execution_count": null,
   "id": "b2437f30-2911-4d83-ae18-bb5cc517fc0a",
   "metadata": {},
   "outputs": [],
   "source": [
    "colors = {\n",
    "        -3 : 'darkred',\n",
    "        -2 : 'orangered', \n",
    "        -1 : 'gold',\n",
    "         0 : 'limegreen',\n",
    "         1 : 'cornflowerblue',\n",
    "         2 : 'blue',\n",
    "         3 : 'magenta',\n",
    "         4 : 'darkviolet',\n",
    "         5 : 'darkmagenta',\n",
    "}\n",
    "\n",
    "ax = plt.figure(figsize = (15, 10))\n",
    "\n",
    "#initialize the Basemap\n",
    "m = Basemap(projection = 'lcc', resolution='f', lat_0=47.5, lon_0=13.3, width=0.6E6, height=3.7E5)\n",
    "m.drawmapboundary()\n",
    "m.drawcountries(linewidth=2)\n",
    "\n",
    "for cat in np.unique(df1['diff_class']):\n",
    "    return_data_cat = df1.query(f'diff_class == {cat}') \n",
    "    \n",
    "    m.scatter(return_data_cat['lon'], return_data_cat['lat'], c=colors[cat], latlon=True, label=cat, marker=',', s=0.7, alpha=0.7)\n",
    "\n",
    "# Plot legend.\n",
    "ax.legend(loc='center left', bbox_to_anchor=(0.9, 0.5), markerscale=10)\n",
    "\n",
    "if SAVE_OUTPUT:\n",
    "    plt.savefig(os.path.join(PATH_OUTPUT, f\"hailriskat_rl_hora_classification_model_compare.png\"), bbox_inches=\"tight\")\n",
    "    plt.close()\n",
    "else:\n",
    "    plt.show()"
   ]
  }
 ],
 "metadata": {
  "kernelspec": {
   "display_name": "Python 3 (ipykernel)",
   "language": "python",
   "name": "python3"
  },
  "language_info": {
   "codemirror_mode": {
    "name": "ipython",
    "version": 3
   },
   "file_extension": ".py",
   "mimetype": "text/x-python",
   "name": "python",
   "nbconvert_exporter": "python",
   "pygments_lexer": "ipython3",
   "version": "3.10.12"
  }
 },
 "nbformat": 4,
 "nbformat_minor": 5
}
