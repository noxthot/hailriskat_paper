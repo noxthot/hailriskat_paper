{
 "cells": [
  {
   "cell_type": "code",
   "execution_count": null,
   "metadata": {},
   "outputs": [],
   "source": [
    "import glob\n",
    "import ipywidgets\n",
    "import os\n",
    "\n",
    "import cmasher as cmr\n",
    "import matplotlib.pyplot as plt\n",
    "import pandas as pd\n",
    "\n",
    "from functools import reduce\n",
    "from mpl_toolkits.basemap import Basemap"
   ]
  },
  {
   "cell_type": "code",
   "execution_count": null,
   "metadata": {},
   "outputs": [],
   "source": [
    "PATH_DATA = os.path.join('..', 'data')\n",
    "PATH_RETURNLVLS = os.path.join(PATH_DATA, 'models', 'mev_nn', 'final_ensemble', 'results')"
   ]
  },
  {
   "cell_type": "code",
   "execution_count": null,
   "metadata": {},
   "outputs": [],
   "source": [
    "## Select the file for the desired return level\n",
    "FILES = glob.glob(os.path.join(PATH_RETURNLVLS, '*.csv'))\n",
    "FILE_NAMES = sorted([os.path.basename(x) for x in glob.glob(os.path.join(PATH_RETURNLVLS, '*.csv'))])\n",
    "\n",
    "csv_files = ipywidgets.SelectMultiple(\n",
    "    options=FILE_NAMES,\n",
    "    value=FILE_NAMES,\n",
    "    description='Choose return period:',\n",
    "    disabled=False\n",
    ")\n",
    "csv_files"
   ]
  },
  {
   "cell_type": "code",
   "execution_count": null,
   "metadata": {},
   "outputs": [],
   "source": [
    "df_temp = pd.read_csv(os.path.join(PATH_RETURNLVLS, csv_files.value[0]))\n",
    "\n",
    "avail_cols = sorted(list(set(df_temp.columns) - set(['lon', 'lat'])))\n",
    "\n",
    "sel_cols = ipywidgets.SelectMultiple(\n",
    "    options=avail_cols,\n",
    "    value=avail_cols,\n",
    "    description='Choose columns:',\n",
    "    disabled=False\n",
    ")\n",
    "\n",
    "sel_cols"
   ]
  },
  {
   "cell_type": "code",
   "execution_count": null,
   "metadata": {},
   "outputs": [],
   "source": [
    "df_append = []\n",
    "\n",
    "# append all files together\n",
    "for file in csv_files.value:\n",
    "    df_temp = pd.read_csv(os.path.join(PATH_RETURNLVLS, file))\n",
    "    df_temp = df_temp[['lon', 'lat'] + list(sel_cols.value)]\n",
    "    \n",
    "    for col in sel_cols.value:\n",
    "        df_temp[col] /= 10\n",
    "        df_temp.rename(columns={col: f\"{os.path.splitext(file)[0]}_{col}\"}, inplace=True)\n",
    "    \n",
    "    df_append.append(df_temp)"
   ]
  },
  {
   "cell_type": "code",
   "execution_count": null,
   "metadata": {},
   "outputs": [],
   "source": [
    "return_data = reduce(lambda x, y: pd.merge(x, y, on = ['lon', 'lat'], how='outer'), df_append)"
   ]
  },
  {
   "cell_type": "code",
   "execution_count": null,
   "metadata": {},
   "outputs": [],
   "source": [
    "return_data"
   ]
  },
  {
   "cell_type": "code",
   "execution_count": null,
   "metadata": {},
   "outputs": [],
   "source": [
    "cmap = cmr.get_sub_cmap('plasma', 0.05, 0.9)\n",
    "\n",
    "for column in return_data.columns:\n",
    "    if column in ['lon', 'lat']:\n",
    "        continue\n",
    "\n",
    "    print(f\"Processing {column}\", flush=True)\n",
    "    \n",
    "    if \"std\" in column:\n",
    "        vmin = 0\n",
    "        vmax = max(return_data[column].max(), 2)\n",
    "    else:\n",
    "        vmin = 1\n",
    "        vmax = 6\n",
    "\n",
    "    fig = plt.figure(figsize=(15, 10))\n",
    "\n",
    "    # initialize the Basemap\n",
    "    m = Basemap(projection = 'lcc', resolution='f', lat_0=47.5, lon_0=13.3, width=0.6E6, height=3.7E5)\n",
    "    m.drawmapboundary()\n",
    "    m.drawcountries(linewidth=2)\n",
    "\n",
    "    m.scatter(return_data['lon'], return_data['lat'], c=return_data[column], cmap=cmap, marker=',', s=0.7, latlon=True, vmin=vmin, vmax=vmax)\n",
    "\n",
    "    plt.colorbar(label='MEHS', extend=\"max\")\n",
    "\n",
    "    plt.savefig(os.path.join(PATH_RETURNLVLS, f\"hailriskat_{column}.pdf\"), bbox_inches=\"tight\")\n",
    "    plt.savefig(os.path.join(PATH_RETURNLVLS, f\"hailriskat_{column}.png\"), bbox_inches=\"tight\")\n",
    "\n",
    "    plt.close()"
   ]
  }
 ],
 "metadata": {
  "kernelspec": {
   "display_name": ".venv",
   "language": "python",
   "name": "python3"
  },
  "language_info": {
   "codemirror_mode": {
    "name": "ipython",
    "version": 3
   },
   "file_extension": ".py",
   "mimetype": "text/x-python",
   "name": "python",
   "nbconvert_exporter": "python",
   "pygments_lexer": "ipython3",
   "version": "3.10.17"
  }
 },
 "nbformat": 4,
 "nbformat_minor": 4
}
